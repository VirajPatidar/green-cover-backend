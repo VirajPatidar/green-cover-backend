{
  "cells": [
    {
      "cell_type": "code",
      "execution_count": 3,
      "metadata": {
        "colab": {
          "base_uri": "https://localhost:8080/",
          "height": 52
        },
        "id": "2v_5PTYSfPAd",
        "outputId": "2865ef83-3ca4-4f79-eb71-3dcb37f61f64"
      },
      "outputs": [
        {
          "name": "stderr",
          "output_type": "stream",
          "text": [
            "/usr/local/lib/python3.7/dist-packages/proplot/__init__.py:71: ProplotWarning: Rebuilding font cache. This usually happens after installing or updating proplot.\n",
            "  register_fonts(default=True)\n"
          ]
        }
      ],
      "source": [
        "import geemap\n",
        "import ipywidgets as widgets\n",
        "import numpy as np\n",
        "import pandas as pd\n",
        "import proplot as plot \n",
        "import matplotlib.pyplot as plt \n",
        "from ipygee import chart\n",
        "from pandas.plotting import register_matplotlib_converters\n",
        "import ee"
      ]
    },
    {
      "cell_type": "code",
      "execution_count": 4,
      "metadata": {
        "id": "fLuc9s82fFGb"
      },
      "outputs": [],
      "source": [
        "Map = geemap.Map()\n",
        "\n",
        "admin = ee.FeatureCollection(\"FAO/GAUL_SIMPLIFIED_500m/2015/level1\");\n",
        "maharashtra = admin.filter(ee.Filter.eq('ADM1_NAME', 'Maharashtra'))\n",
        "geometry = maharashtra.geometry()\n",
        "\n",
        "point = ee.Geometry.Point([80.3288, 23.5121])\n",
        "\n",
        "image = ee.ImageCollection('LANDSAT/LC08/C01/T1_SR') \\\n",
        "    .filterDate('2019-01-01', '2019-12-31') \\\n",
        "    .sort('CLOUD_COVER') \\\n",
        "    .min() \\\n",
        "    .select('B[1-7]') \\\n",
        "    .clip(geometry)\n",
        "\n",
        "\n",
        "vis_params = {\n",
        "    'min': 0,\n",
        "    'max': 3000,\n",
        "    'bands': ['B5', 'B4', 'B3']\n",
        "}\n",
        "\n",
        "Map.centerObject(point, 5)\n",
        "Map.addLayer(image, vis_params, \"Landsat-8\")"
      ]
    },
    {
      "cell_type": "code",
      "execution_count": 5,
      "metadata": {
        "colab": {
          "base_uri": "https://localhost:8080/",
          "height": 52
        },
        "id": "D5nAexYdfV4T",
        "outputId": "4d01401e-32d1-44d2-d4df-c2358ef32761"
      },
      "outputs": [
        {
          "name": "stdout",
          "output_type": "stream",
          "text": [
            "5000\n",
            "{'type': 'Feature', 'geometry': {'type': 'Point', 'coordinates': [75.96063229451673, 21.19164441922813]}, 'id': '0', 'properties': {'LC_Type1_median': 12}}\n"
          ]
        }
      ],
      "source": [
        "modis = ee.ImageCollection('MODIS/006/MCD12Q1') \\\n",
        "              .filterDate('2016-01-01', '2019-01-01') \\\n",
        "              .select('LC_Type1') \\\n",
        "              .reduce(ee.Reducer.median())\n",
        "\n",
        "points = modis.sample(**{\n",
        "    'region': ee.Geometry.Rectangle([72.0000, 23.0000, 82.0000, 15.0000]),\n",
        "    'scale': 30,\n",
        "    'numPixels': 5000,\n",
        "    'seed': 0,\n",
        "    'geometries': True  # Set this to False to ignore geometries\n",
        "})\n",
        "\n",
        "Map.addLayer(points, {}, 'training', False)\n"
      ]
    },
    {
      "cell_type": "code",
      "execution_count": 6,
      "metadata": {
        "colab": {
          "base_uri": "https://localhost:8080/"
        },
        "id": "NanGgCibfbbn",
        "outputId": "c9bc0d10-c5f9-479e-b59f-40fa10da067a"
      },
      "outputs": [
        {
          "name": "stdout",
          "output_type": "stream",
          "text": [
            "{'type': 'Feature', 'geometry': None, 'id': '0_0', 'properties': {'B1': 282, 'B2': 377, 'B3': 638, 'B4': 548, 'B5': 2163, 'B6': 1395, 'B7': 885, 'LC_Type1_median': 12}}\n"
          ]
        }
      ],
      "source": [
        "# Use these bands for prediction.\n",
        "bands = ['B1', 'B2', 'B3', 'B4', 'B5', 'B6', 'B7']\n",
        "\n",
        "\n",
        "# This property of the table stores the land cover labels.\n",
        "label = 'LC_Type1_median'\n",
        "input = image.select(bands)\n",
        "\n",
        "# Overlay the points on the imagery to get training.\n",
        "training = input.sampleRegions(**{\n",
        "  'collection': points,\n",
        "  'properties': [label],\n",
        "  'scale': 30\n",
        "})\n",
        "\n",
        "# Train a CART classifier with default parameters.\n",
        "trained = ee.Classifier.smileCart().train(training, label, bands)\n"
      ]
    },
    {
      "cell_type": "code",
      "execution_count": 7,
      "metadata": {
        "id": "qDn4bV2rgon7"
      },
      "outputs": [],
      "source": [
        "result = image.select(bands).classify(trained)"
      ]
    },
    {
      "cell_type": "code",
      "execution_count": 8,
      "metadata": {
        "id": "7ZNjvODUgro7"
      },
      "outputs": [],
      "source": [
        "landcover = ee.ImageCollection('MODIS/006/MCD12Q1') \\\n",
        "              .filterDate('2019-01-01', '2019-12-31') \\\n",
        "              .select('LC_Type1') \\\n",
        "              .reduce(ee.Reducer.mean()) \\\n",
        "              .clip(geometry)\n",
        "\n",
        "LandCoverVis = {\n",
        "  'min': 1.0,\n",
        "  'max': 17.0,\n",
        "  'palette': [\n",
        "    '05450a', '086a10', '54a708', '78d203', '009900', 'c6b044', 'dcd159',\n",
        "    'dade48', 'fbff13', 'b6ff05', '27ff87', 'c24f44', 'a5a5a5', 'ff6d4c',\n",
        "    '69fff8', 'f9ffa4', '1c0dff'\n",
        "  ],\n",
        "}\n",
        "\n",
        "Map.centerObject(point, 5)\n",
        "Map.addLayer(landcover, LandCoverVis, 'MODIS Land Cover')"
      ]
    },
    {
      "cell_type": "code",
      "execution_count": 9,
      "metadata": {
        "id": "2epFGtWCgyJ3"
      },
      "outputs": [],
      "source": [
        "landsatcover = result.set('classification_class_values', [0, 1, 2, 3, 4, 5, 6, 7, 8, 9, 10, 11, 12, 13, 14, 15, 16])\n",
        "landsatcover = landsatcover.set('classification_class_palette', ['1c0dff', '05450a', '086a10', '54a708', '78d203', '009900', 'c6b044', 'dcd159', 'dade48', 'fbff13', 'b6ff05', '27ff87', 'c24f44', 'a5a5a5', 'ff6d4c', '69fff8', 'f9ffa4',   ])\n",
        "Map.addLayer(landsatcover, {}, 'Land cover')"
      ]
    },
    {
      "cell_type": "code",
      "execution_count": 10,
      "metadata": {
        "id": "QzQ4vMiUg1Y3"
      },
      "outputs": [],
      "source": [
        "ee_class_table = \"\"\"\n",
        "\n",
        "Value\tColor\tDescription\n",
        "0\t1c0dff\tWater\n",
        "1\t05450a\tEvergreen needleleaf forest\n",
        "2\t086a10\tEvergreen broadleaf forest\n",
        "3\t54a708\tDeciduous needleleaf forest\n",
        "4\t78d203\tDeciduous broadleaf forest\n",
        "5\t009900\tMixed forest\n",
        "6\tc6b044\tClosed shrublands\n",
        "7\tdcd159\tOpen shrublands\n",
        "8\tdade48\tWoody savannas\n",
        "9\tfbff13\tSavannas\n",
        "10\tb6ff05\tGrasslands\n",
        "11\t27ff87\tPermanent wetlands\n",
        "12\tc24f44\tCroplands\n",
        "13\ta5a5a5\tUrban and built-up\n",
        "14\tff6d4c\tCropland/natural vegetation mosaic\n",
        "15\t69fff8\tSnow and ice\n",
        "16\tf9ffa4\tBarren or sparsely vegetated\n",
        "254\tffffff\tUnclassified\n",
        "\n",
        "\"\"\"\n",
        "\n",
        "legend_dict = geemap.legend_from_ee(ee_class_table)\n",
        "Map.add_legend(legend_title=\"Land Cover Legend\", legend_dict=legend_dict)"
      ]
    },
    {
      "cell_type": "code",
      "execution_count": 11,
      "metadata": {
        "colab": {
          "base_uri": "https://localhost:8080/",
          "height": 621,
          "referenced_widgets": [
            "1e874568f6824878b6f572ba98b989b3",
            "05d74a9b55844efb9ef5c4215e308deb",
            "b798659462bd436aacd0cd3845a3d43b",
            "92468b65a7f74c05abb01690bd4db3f5",
            "52b91bce3e6f4088b21fa69b1d0a7c9c",
            "a8a9e088afae427f82920d387193c6aa",
            "293a01c9dfcf4bd28d855cf37ece6286",
            "a64290158ffe4a9bbaa8405533da323f",
            "9a8ba42ebb78430aa76935f69e5aff9c",
            "3b03247d1cc447a09d7bdcb132ee8d6f",
            "af6ad7e6df584af4b7f030d15003ecb1",
            "7563a28fd82b405fb254f32bb3eb6d3f",
            "b672ecf7ebc645b5b9b2055f8314018f",
            "23518b31a0d242d6b6226089f1ff3149",
            "3b1838cc1d9b41c6b3e36e41fd8cb68f",
            "1cae430458fd47b5a506ba13aa84d05d",
            "bff4295fba3d475c8d2b1626196d81cc",
            "f4792d3daf4a4ad197076feaf4d03812",
            "713934c6cea2458ba82849aaa56f53e0",
            "8cf98e2a506c45af942c7d23b6fa6e15",
            "351b47b15693491a84e0acaf7ecb0d0f",
            "10eba2ae30264db2af94dd81ec05f74f",
            "9426e7419da54f2db8d056f5498c80db",
            "38c8c65089844f698c43369218fd29a4",
            "413e474591fc427daba9f666f9976b68",
            "50be7bbf242b451f83f7f45790e0d563",
            "656fdfeec8f840129ea434ffc908f527",
            "2792342518c944548a2d4a94f320b232",
            "7f89cfe52c5140729d4682439a634a8d",
            "293a73be569d405c857852180775025c",
            "49967a9eb9c84b10b55d26721c63c496",
            "8e552bd7bf394e3697d95d5ff99c9dcd",
            "2f6994e71f4d499f953ff91973f94c2b",
            "2f4c877b4a374cadaec20b756f256616",
            "563b7b0b9ebf47ab8ac08935b6a8188e"
          ]
        },
        "id": "iXB5n-vCg-X0",
        "outputId": "a739aa5e-a53a-4b45-8376-5e5e3296c4a3"
      },
      "outputs": [
        {
          "data": {
            "application/vnd.jupyter.widget-view+json": {
              "model_id": "1e874568f6824878b6f572ba98b989b3",
              "version_major": 2,
              "version_minor": 0
            },
            "text/plain": [
              "Map(center=[23.512099999999997, 80.3288], controls=(WidgetControl(options=['position', 'transparent_bg'], widg…"
            ]
          },
          "metadata": {
            "application/vnd.jupyter.widget-view+json": {
              "colab": {
                "custom_widget_manager": {
                  "url": "https://ssl.gstatic.com/colaboratory-static/widgets/colab-cdn-widget-manager/a8874ba6619b6106/manager.min.js"
                }
              }
            }
          },
          "output_type": "display_data"
        }
      ],
      "source": [
        "Map"
      ]
    }
  ],
  "metadata": {
    "colab": {
      "name": "LandCover.ipynb",
      "provenance": []
    },
    "kernelspec": {
      "display_name": "Python 3",
      "name": "python3"
    },
    "language_info": {
      "name": "python"
    },
    "widgets": {
      "application/vnd.jupyter.widget-state+json": {
        "05d74a9b55844efb9ef5c4215e308deb": {
          "model_module": "jupyter-leaflet",
          "model_module_version": "^0.14.0",
          "model_name": "LeafletMapStyleModel",
          "state": {
            "_model_module": "jupyter-leaflet",
            "_model_module_version": "^0.14.0",
            "_model_name": "LeafletMapStyleModel",
            "_view_count": null,
            "_view_module": "@jupyter-widgets/base",
            "_view_module_version": "1.2.0",
            "_view_name": "StyleView",
            "cursor": "grab"
          }
        },
        "10eba2ae30264db2af94dd81ec05f74f": {
          "model_module": "@jupyter-widgets/controls",
          "model_module_version": "1.5.0",
          "model_name": "VBoxModel",
          "state": {
            "_dom_classes": [],
            "_model_module": "@jupyter-widgets/controls",
            "_model_module_version": "1.5.0",
            "_model_name": "VBoxModel",
            "_view_count": null,
            "_view_module": "@jupyter-widgets/controls",
            "_view_module_version": "1.5.0",
            "_view_name": "VBoxView",
            "box_style": "",
            "children": [
              "IPY_MODEL_656fdfeec8f840129ea434ffc908f527"
            ],
            "layout": "IPY_MODEL_50be7bbf242b451f83f7f45790e0d563"
          }
        },
        "1cae430458fd47b5a506ba13aa84d05d": {
          "model_module": "jupyter-leaflet",
          "model_module_version": "^0.14.0",
          "model_name": "LeafletTileLayerModel",
          "state": {
            "_model_module": "jupyter-leaflet",
            "_model_module_version": "^0.14.0",
            "_model_name": "LeafletTileLayerModel",
            "_view_count": null,
            "_view_module": "jupyter-leaflet",
            "_view_module_version": "^0.14.0",
            "_view_name": "LeafletTileLayerView",
            "attribution": "Google Earth Engine",
            "base": false,
            "bottom": true,
            "detect_retina": false,
            "loading": false,
            "max_native_zoom": 18,
            "max_zoom": 24,
            "min_native_zoom": 0,
            "min_zoom": 0,
            "name": "Landsat-8",
            "no_wrap": false,
            "opacity": 1,
            "options": [
              "attribution",
              "detect_retina",
              "max_native_zoom",
              "max_zoom",
              "min_native_zoom",
              "min_zoom",
              "no_wrap",
              "tile_size",
              "tms"
            ],
            "popup": null,
            "popup_max_height": null,
            "popup_max_width": 300,
            "popup_min_width": 50,
            "show_loading": false,
            "tile_size": 256,
            "tms": false,
            "url": "https://earthengine.googleapis.com/v1alpha/projects/earthengine-legacy/maps/20124c30cb1be601d7b4efd33866c19a-450c34565580c2511a6fedf51f7fa0ec/tiles/{z}/{x}/{y}",
            "visible": true
          }
        },
        "1e874568f6824878b6f572ba98b989b3": {
          "model_module": "jupyter-leaflet",
          "model_module_version": "^0.14.0",
          "model_name": "LeafletMapModel",
          "state": {
            "_dom_classes": [],
            "_dragging": false,
            "_model_module": "jupyter-leaflet",
            "_model_module_version": "^0.14.0",
            "_model_name": "LeafletMapModel",
            "_view_count": null,
            "_view_module": "jupyter-leaflet",
            "_view_module_version": "^0.14.0",
            "_view_name": "LeafletMapView",
            "bottom": 7671.000038146973,
            "bounce_at_zoom_limits": true,
            "box_zoom": true,
            "center": [
              17.748685853434008,
              77.62081326785183
            ],
            "close_popup_on_click": true,
            "controls": [
              "IPY_MODEL_92468b65a7f74c05abb01690bd4db3f5",
              "IPY_MODEL_52b91bce3e6f4088b21fa69b1d0a7c9c",
              "IPY_MODEL_a8a9e088afae427f82920d387193c6aa",
              "IPY_MODEL_293a01c9dfcf4bd28d855cf37ece6286",
              "IPY_MODEL_a64290158ffe4a9bbaa8405533da323f",
              "IPY_MODEL_9a8ba42ebb78430aa76935f69e5aff9c",
              "IPY_MODEL_3b03247d1cc447a09d7bdcb132ee8d6f",
              "IPY_MODEL_af6ad7e6df584af4b7f030d15003ecb1",
              "IPY_MODEL_7563a28fd82b405fb254f32bb3eb6d3f"
            ],
            "crs": {
              "custom": false,
              "name": "EPSG3857"
            },
            "default_style": "IPY_MODEL_b672ecf7ebc645b5b9b2055f8314018f",
            "double_click_zoom": true,
            "dragging": true,
            "dragging_style": "IPY_MODEL_8cf98e2a506c45af942c7d23b6fa6e15",
            "east": 93.11153592410182,
            "fullscreen": false,
            "inertia": true,
            "inertia_deceleration": 3000,
            "inertia_max_speed": 1500,
            "interpolation": "bilinear",
            "keyboard": true,
            "keyboard_pan_offset": 80,
            "keyboard_zoom_offset": 1,
            "layers": [
              "IPY_MODEL_23518b31a0d242d6b6226089f1ff3149",
              "IPY_MODEL_3b1838cc1d9b41c6b3e36e41fd8cb68f",
              "IPY_MODEL_1cae430458fd47b5a506ba13aa84d05d",
              "IPY_MODEL_bff4295fba3d475c8d2b1626196d81cc",
              "IPY_MODEL_f4792d3daf4a4ad197076feaf4d03812",
              "IPY_MODEL_713934c6cea2458ba82849aaa56f53e0"
            ],
            "layout": "IPY_MODEL_b798659462bd436aacd0cd3845a3d43b",
            "left": 11019.609457168011,
            "max_zoom": 24,
            "min_zoom": 1,
            "modisdate": "yesterday",
            "north": 23.905926161031037,
            "options": [
              "bounce_at_zoom_limits",
              "box_zoom",
              "center",
              "close_popup_on_click",
              "double_click_zoom",
              "dragging",
              "fullscreen",
              "inertia",
              "inertia_deceleration",
              "inertia_max_speed",
              "interpolation",
              "keyboard",
              "keyboard_pan_offset",
              "keyboard_zoom_offset",
              "max_zoom",
              "min_zoom",
              "scroll_wheel_zoom",
              "tap",
              "tap_tolerance",
              "touch_zoom",
              "world_copy_jump",
              "zoom",
              "zoom_animation_threshold",
              "zoom_delta",
              "zoom_snap",
              "zoom_start"
            ],
            "right": 12429.609457168011,
            "scroll_wheel_zoom": true,
            "south": 11.372337970407433,
            "style": "IPY_MODEL_b672ecf7ebc645b5b9b2055f8314018f",
            "tap": true,
            "tap_tolerance": 15,
            "top": 7071.000038146973,
            "touch_zoom": true,
            "west": 62.13009061160183,
            "window_url": "https://k5coxz8fc3e-496ff2e9c6d22116-0-colab.googleusercontent.com/outputframe.html?vrz=colab-20211209-060056-RC00_415226326",
            "world_copy_jump": false,
            "zoom": 6,
            "zoom_animation_threshold": 4,
            "zoom_delta": 1,
            "zoom_snap": 1,
            "zoom_start": 12
          }
        },
        "23518b31a0d242d6b6226089f1ff3149": {
          "model_module": "jupyter-leaflet",
          "model_module_version": "^0.14.0",
          "model_name": "LeafletTileLayerModel",
          "state": {
            "_model_module": "jupyter-leaflet",
            "_model_module_version": "^0.14.0",
            "_model_name": "LeafletTileLayerModel",
            "_view_count": null,
            "_view_module": "jupyter-leaflet",
            "_view_module_version": "^0.14.0",
            "_view_name": "LeafletTileLayerView",
            "attribution": "Map data (c) <a href=\"https://openstreetmap.org\">OpenStreetMap</a> contributors",
            "base": true,
            "bottom": true,
            "detect_retina": false,
            "loading": false,
            "max_native_zoom": 18,
            "max_zoom": 19,
            "min_native_zoom": 0,
            "min_zoom": 1,
            "name": "",
            "no_wrap": false,
            "opacity": 1,
            "options": [
              "attribution",
              "detect_retina",
              "max_native_zoom",
              "max_zoom",
              "min_native_zoom",
              "min_zoom",
              "no_wrap",
              "tile_size",
              "tms"
            ],
            "popup": null,
            "popup_max_height": null,
            "popup_max_width": 300,
            "popup_min_width": 50,
            "show_loading": false,
            "tile_size": 256,
            "tms": false,
            "url": "https://{s}.tile.openstreetmap.org/{z}/{x}/{y}.png",
            "visible": true
          }
        },
        "2792342518c944548a2d4a94f320b232": {
          "model_module": "@jupyter-widgets/base",
          "model_module_version": "1.2.0",
          "model_name": "LayoutModel",
          "state": {
            "_model_module": "@jupyter-widgets/base",
            "_model_module_version": "1.2.0",
            "_model_name": "LayoutModel",
            "_view_count": null,
            "_view_module": "@jupyter-widgets/base",
            "_view_module_version": "1.2.0",
            "_view_name": "LayoutView",
            "align_content": null,
            "align_items": null,
            "align_self": null,
            "border": null,
            "bottom": null,
            "display": null,
            "flex": null,
            "flex_flow": null,
            "grid_area": null,
            "grid_auto_columns": null,
            "grid_auto_flow": null,
            "grid_auto_rows": null,
            "grid_column": null,
            "grid_gap": null,
            "grid_row": null,
            "grid_template_areas": null,
            "grid_template_columns": null,
            "grid_template_rows": null,
            "height": null,
            "justify_content": null,
            "justify_items": null,
            "left": null,
            "margin": null,
            "max_height": "400px",
            "max_width": "300px",
            "min_height": null,
            "min_width": null,
            "object_fit": null,
            "object_position": null,
            "order": null,
            "overflow": "scroll",
            "overflow_x": null,
            "overflow_y": null,
            "padding": null,
            "right": null,
            "top": null,
            "visibility": null,
            "width": null
          }
        },
        "293a01c9dfcf4bd28d855cf37ece6286": {
          "model_module": "jupyter-leaflet",
          "model_module_version": "^0.14.0",
          "model_name": "LeafletFullScreenControlModel",
          "state": {
            "_model_module": "jupyter-leaflet",
            "_model_module_version": "^0.14.0",
            "_model_name": "LeafletFullScreenControlModel",
            "_view_count": null,
            "_view_module": "jupyter-leaflet",
            "_view_module_version": "^0.14.0",
            "_view_name": "LeafletFullScreenControlView",
            "options": [
              "position"
            ],
            "position": "topleft"
          }
        },
        "293a73be569d405c857852180775025c": {
          "model_module": "@jupyter-widgets/base",
          "model_module_version": "1.2.0",
          "model_name": "LayoutModel",
          "state": {
            "_model_module": "@jupyter-widgets/base",
            "_model_module_version": "1.2.0",
            "_model_name": "LayoutModel",
            "_view_count": null,
            "_view_module": "@jupyter-widgets/base",
            "_view_module_version": "1.2.0",
            "_view_name": "LayoutView",
            "align_content": null,
            "align_items": null,
            "align_self": null,
            "border": null,
            "bottom": null,
            "display": null,
            "flex": null,
            "flex_flow": null,
            "grid_area": null,
            "grid_auto_columns": null,
            "grid_auto_flow": null,
            "grid_auto_rows": null,
            "grid_column": null,
            "grid_gap": null,
            "grid_row": null,
            "grid_template_areas": null,
            "grid_template_columns": null,
            "grid_template_rows": null,
            "height": "28px",
            "justify_content": null,
            "justify_items": null,
            "left": null,
            "margin": null,
            "max_height": null,
            "max_width": null,
            "min_height": null,
            "min_width": null,
            "object_fit": null,
            "object_position": null,
            "order": null,
            "overflow": null,
            "overflow_x": null,
            "overflow_y": null,
            "padding": "0px 0px 0px 4px",
            "right": null,
            "top": null,
            "visibility": null,
            "width": "28px"
          }
        },
        "2f4c877b4a374cadaec20b756f256616": {
          "model_module": "@jupyter-widgets/controls",
          "model_module_version": "1.5.0",
          "model_name": "DescriptionStyleModel",
          "state": {
            "_model_module": "@jupyter-widgets/controls",
            "_model_module_version": "1.5.0",
            "_model_name": "DescriptionStyleModel",
            "_view_count": null,
            "_view_module": "@jupyter-widgets/base",
            "_view_module_version": "1.2.0",
            "_view_name": "StyleView",
            "description_width": ""
          }
        },
        "2f6994e71f4d499f953ff91973f94c2b": {
          "model_module": "@jupyter-widgets/controls",
          "model_module_version": "1.5.0",
          "model_name": "HTMLModel",
          "state": {
            "_dom_classes": [],
            "_model_module": "@jupyter-widgets/controls",
            "_model_module_version": "1.5.0",
            "_model_name": "HTMLModel",
            "_view_count": null,
            "_view_module": "@jupyter-widgets/controls",
            "_view_module_version": "1.5.0",
            "_view_name": "HTMLView",
            "description": "",
            "description_tooltip": null,
            "layout": "IPY_MODEL_563b7b0b9ebf47ab8ac08935b6a8188e",
            "placeholder": "​",
            "style": "IPY_MODEL_2f4c877b4a374cadaec20b756f256616",
            "value": "<html>\n<body>\n  <div class='my-legend'>\n  <div class='legend-title'>Land Cover Legend</div>\n  <div class='legend-scale'>\n    <ul class='legend-labels'>\n      <li><span style='background:#1c0dff;'></span>0 Water</li>\n      <li><span style='background:#05450a;'></span>1 Evergreen needleleaf forest</li>\n      <li><span style='background:#086a10;'></span>2 Evergreen broadleaf forest</li>\n      <li><span style='background:#54a708;'></span>3 Deciduous needleleaf forest</li>\n      <li><span style='background:#78d203;'></span>4 Deciduous broadleaf forest</li>\n      <li><span style='background:#009900;'></span>5 Mixed forest</li>\n      <li><span style='background:#c6b044;'></span>6 Closed shrublands</li>\n      <li><span style='background:#dcd159;'></span>7 Open shrublands</li>\n      <li><span style='background:#dade48;'></span>8 Woody savannas</li>\n      <li><span style='background:#fbff13;'></span>9 Savannas</li>\n      <li><span style='background:#b6ff05;'></span>10 Grasslands</li>\n      <li><span style='background:#27ff87;'></span>11 Permanent wetlands</li>\n      <li><span style='background:#c24f44;'></span>12 Croplands</li>\n      <li><span style='background:#a5a5a5;'></span>13 Urban and built-up</li>\n      <li><span style='background:#ff6d4c;'></span>14 Cropland/natural vegetation mosaic</li>\n      <li><span style='background:#69fff8;'></span>15 Snow and ice</li>\n      <li><span style='background:#f9ffa4;'></span>16 Barren or sparsely vegetated</li>\n      <li><span style='background:#ffffff;'></span>254 Unclassified</li>\n    </ul>\n  </div>\n  </div>\n\n  <style type='text/css'>\n    .my-legend .legend-title {\n      text-align: left;\n      margin-bottom: 2px;\n      margin-left: 2px;\n      font-weight: bold;\n      font-size: 90%;\n      }\n    .my-legend .legend-scale ul {\n      margin: 0;\n      margin-bottom: 5px;\n      padding: 0;\n      float: left;\n      list-style: none;\n      }\n    .my-legend .legend-scale ul li {\n      font-size: 80%;\n      list-style: none;\n      margin-left: 1px;\n      line-height: 18px;\n      margin-bottom: 2px;\n      }\n    .my-legend ul.legend-labels li span {\n      display: block;\n      float: left;\n      height: 16px;\n      width: 30px;\n      margin-right: 5px;\n      margin-left: 2px;\n      border: 1px solid #999;\n      }\n    .my-legend .legend-source {\n      font-size: 70%;\n      color: #999;\n      clear: both;\n      }\n    .my-legend a {\n      color: #777;\n      }\n  </style>\n</body>\n</html>\n"
          }
        },
        "351b47b15693491a84e0acaf7ecb0d0f": {
          "model_module": "@jupyter-widgets/controls",
          "model_module_version": "1.5.0",
          "model_name": "HBoxModel",
          "state": {
            "_dom_classes": [],
            "_model_module": "@jupyter-widgets/controls",
            "_model_module_version": "1.5.0",
            "_model_name": "HBoxModel",
            "_view_count": null,
            "_view_module": "@jupyter-widgets/controls",
            "_view_module_version": "1.5.0",
            "_view_name": "HBoxView",
            "box_style": "",
            "children": [
              "IPY_MODEL_413e474591fc427daba9f666f9976b68"
            ],
            "layout": "IPY_MODEL_38c8c65089844f698c43369218fd29a4"
          }
        },
        "38c8c65089844f698c43369218fd29a4": {
          "model_module": "@jupyter-widgets/base",
          "model_module_version": "1.2.0",
          "model_name": "LayoutModel",
          "state": {
            "_model_module": "@jupyter-widgets/base",
            "_model_module_version": "1.2.0",
            "_model_name": "LayoutModel",
            "_view_count": null,
            "_view_module": "@jupyter-widgets/base",
            "_view_module_version": "1.2.0",
            "_view_name": "LayoutView",
            "align_content": null,
            "align_items": null,
            "align_self": null,
            "border": null,
            "bottom": null,
            "display": null,
            "flex": null,
            "flex_flow": null,
            "grid_area": null,
            "grid_auto_columns": null,
            "grid_auto_flow": null,
            "grid_auto_rows": null,
            "grid_column": null,
            "grid_gap": null,
            "grid_row": null,
            "grid_template_areas": null,
            "grid_template_columns": null,
            "grid_template_rows": null,
            "height": null,
            "justify_content": null,
            "justify_items": null,
            "left": null,
            "margin": null,
            "max_height": null,
            "max_width": null,
            "min_height": null,
            "min_width": null,
            "object_fit": null,
            "object_position": null,
            "order": null,
            "overflow": null,
            "overflow_x": null,
            "overflow_y": null,
            "padding": null,
            "right": null,
            "top": null,
            "visibility": null,
            "width": null
          }
        },
        "3b03247d1cc447a09d7bdcb132ee8d6f": {
          "model_module": "jupyter-leaflet",
          "model_module_version": "^0.14.0",
          "model_name": "LeafletDrawControlModel",
          "state": {
            "_model_module": "jupyter-leaflet",
            "_model_module_version": "^0.14.0",
            "_model_name": "LeafletDrawControlModel",
            "_view_count": null,
            "_view_module": "jupyter-leaflet",
            "_view_module_version": "^0.14.0",
            "_view_name": "LeafletDrawControlView",
            "circle": {
              "shapeOptions": {
                "color": "#3388ff"
              }
            },
            "circlemarker": {},
            "data": [],
            "edit": true,
            "marker": {
              "shapeOptions": {
                "color": "#3388ff"
              }
            },
            "options": [
              "position"
            ],
            "polygon": {
              "shapeOptions": {}
            },
            "polyline": {
              "shapeOptions": {}
            },
            "position": "topleft",
            "rectangle": {
              "shapeOptions": {
                "color": "#3388ff"
              }
            },
            "remove": true
          }
        },
        "3b1838cc1d9b41c6b3e36e41fd8cb68f": {
          "model_module": "jupyter-leaflet",
          "model_module_version": "^0.14.0",
          "model_name": "LeafletTileLayerModel",
          "state": {
            "_model_module": "jupyter-leaflet",
            "_model_module_version": "^0.14.0",
            "_model_name": "LeafletTileLayerModel",
            "_view_count": null,
            "_view_module": "jupyter-leaflet",
            "_view_module_version": "^0.14.0",
            "_view_name": "LeafletTileLayerView",
            "attribution": "Google",
            "base": false,
            "bottom": true,
            "detect_retina": false,
            "loading": false,
            "max_native_zoom": 18,
            "max_zoom": 24,
            "min_native_zoom": 0,
            "min_zoom": 0,
            "name": "Google Maps",
            "no_wrap": false,
            "opacity": 1,
            "options": [
              "attribution",
              "detect_retina",
              "max_native_zoom",
              "max_zoom",
              "min_native_zoom",
              "min_zoom",
              "no_wrap",
              "tile_size",
              "tms"
            ],
            "popup": null,
            "popup_max_height": null,
            "popup_max_width": 300,
            "popup_min_width": 50,
            "show_loading": false,
            "tile_size": 256,
            "tms": false,
            "url": "https://mt1.google.com/vt/lyrs=m&x={x}&y={y}&z={z}",
            "visible": true
          }
        },
        "413e474591fc427daba9f666f9976b68": {
          "model_module": "@jupyter-widgets/controls",
          "model_module_version": "1.5.0",
          "model_name": "ToggleButtonModel",
          "state": {
            "_dom_classes": [],
            "_model_module": "@jupyter-widgets/controls",
            "_model_module_version": "1.5.0",
            "_model_name": "ToggleButtonModel",
            "_view_count": null,
            "_view_module": "@jupyter-widgets/controls",
            "_view_module_version": "1.5.0",
            "_view_name": "ToggleButtonView",
            "button_style": "",
            "description": "",
            "description_tooltip": null,
            "disabled": false,
            "icon": "globe",
            "layout": "IPY_MODEL_293a73be569d405c857852180775025c",
            "style": "IPY_MODEL_7f89cfe52c5140729d4682439a634a8d",
            "tooltip": "Search location/data",
            "value": false
          }
        },
        "49967a9eb9c84b10b55d26721c63c496": {
          "model_module": "@jupyter-widgets/controls",
          "model_module_version": "1.5.0",
          "model_name": "DescriptionStyleModel",
          "state": {
            "_model_module": "@jupyter-widgets/controls",
            "_model_module_version": "1.5.0",
            "_model_name": "DescriptionStyleModel",
            "_view_count": null,
            "_view_module": "@jupyter-widgets/base",
            "_view_module_version": "1.2.0",
            "_view_name": "StyleView",
            "description_width": ""
          }
        },
        "50be7bbf242b451f83f7f45790e0d563": {
          "model_module": "@jupyter-widgets/base",
          "model_module_version": "1.2.0",
          "model_name": "LayoutModel",
          "state": {
            "_model_module": "@jupyter-widgets/base",
            "_model_module_version": "1.2.0",
            "_model_name": "LayoutModel",
            "_view_count": null,
            "_view_module": "@jupyter-widgets/base",
            "_view_module_version": "1.2.0",
            "_view_name": "LayoutView",
            "align_content": null,
            "align_items": null,
            "align_self": null,
            "border": null,
            "bottom": null,
            "display": null,
            "flex": null,
            "flex_flow": null,
            "grid_area": null,
            "grid_auto_columns": null,
            "grid_auto_flow": null,
            "grid_auto_rows": null,
            "grid_column": null,
            "grid_gap": null,
            "grid_row": null,
            "grid_template_areas": null,
            "grid_template_columns": null,
            "grid_template_rows": null,
            "height": null,
            "justify_content": null,
            "justify_items": null,
            "left": null,
            "margin": null,
            "max_height": null,
            "max_width": null,
            "min_height": null,
            "min_width": null,
            "object_fit": null,
            "object_position": null,
            "order": null,
            "overflow": null,
            "overflow_x": null,
            "overflow_y": null,
            "padding": null,
            "right": null,
            "top": null,
            "visibility": null,
            "width": null
          }
        },
        "52b91bce3e6f4088b21fa69b1d0a7c9c": {
          "model_module": "jupyter-leaflet",
          "model_module_version": "^0.14.0",
          "model_name": "LeafletZoomControlModel",
          "state": {
            "_model_module": "jupyter-leaflet",
            "_model_module_version": "^0.14.0",
            "_model_name": "LeafletZoomControlModel",
            "_view_count": null,
            "_view_module": "jupyter-leaflet",
            "_view_module_version": "^0.14.0",
            "_view_name": "LeafletZoomControlView",
            "options": [
              "position",
              "zoom_in_text",
              "zoom_in_title",
              "zoom_out_text",
              "zoom_out_title"
            ],
            "position": "topleft",
            "zoom_in_text": "+",
            "zoom_in_title": "Zoom in",
            "zoom_out_text": "-",
            "zoom_out_title": "Zoom out"
          }
        },
        "563b7b0b9ebf47ab8ac08935b6a8188e": {
          "model_module": "@jupyter-widgets/base",
          "model_module_version": "1.2.0",
          "model_name": "LayoutModel",
          "state": {
            "_model_module": "@jupyter-widgets/base",
            "_model_module_version": "1.2.0",
            "_model_name": "LayoutModel",
            "_view_count": null,
            "_view_module": "@jupyter-widgets/base",
            "_view_module_version": "1.2.0",
            "_view_name": "LayoutView",
            "align_content": null,
            "align_items": null,
            "align_self": null,
            "border": null,
            "bottom": null,
            "display": null,
            "flex": null,
            "flex_flow": null,
            "grid_area": null,
            "grid_auto_columns": null,
            "grid_auto_flow": null,
            "grid_auto_rows": null,
            "grid_column": null,
            "grid_gap": null,
            "grid_row": null,
            "grid_template_areas": null,
            "grid_template_columns": null,
            "grid_template_rows": null,
            "height": null,
            "justify_content": null,
            "justify_items": null,
            "left": null,
            "margin": null,
            "max_height": null,
            "max_width": null,
            "min_height": null,
            "min_width": null,
            "object_fit": null,
            "object_position": null,
            "order": null,
            "overflow": null,
            "overflow_x": null,
            "overflow_y": null,
            "padding": null,
            "right": null,
            "top": null,
            "visibility": null,
            "width": null
          }
        },
        "656fdfeec8f840129ea434ffc908f527": {
          "model_module": "@jupyter-widgets/controls",
          "model_module_version": "1.5.0",
          "model_name": "ToggleButtonModel",
          "state": {
            "_dom_classes": [],
            "_model_module": "@jupyter-widgets/controls",
            "_model_module_version": "1.5.0",
            "_model_name": "ToggleButtonModel",
            "_view_count": null,
            "_view_module": "@jupyter-widgets/controls",
            "_view_module_version": "1.5.0",
            "_view_name": "ToggleButtonView",
            "button_style": "",
            "description": "",
            "description_tooltip": null,
            "disabled": false,
            "icon": "wrench",
            "layout": "IPY_MODEL_8e552bd7bf394e3697d95d5ff99c9dcd",
            "style": "IPY_MODEL_49967a9eb9c84b10b55d26721c63c496",
            "tooltip": "Toolbar",
            "value": false
          }
        },
        "713934c6cea2458ba82849aaa56f53e0": {
          "model_module": "jupyter-leaflet",
          "model_module_version": "^0.14.0",
          "model_name": "LeafletTileLayerModel",
          "state": {
            "_model_module": "jupyter-leaflet",
            "_model_module_version": "^0.14.0",
            "_model_name": "LeafletTileLayerModel",
            "_view_count": null,
            "_view_module": "jupyter-leaflet",
            "_view_module_version": "^0.14.0",
            "_view_name": "LeafletTileLayerView",
            "attribution": "Google Earth Engine",
            "base": false,
            "bottom": true,
            "detect_retina": false,
            "loading": false,
            "max_native_zoom": 18,
            "max_zoom": 24,
            "min_native_zoom": 0,
            "min_zoom": 0,
            "name": "Land cover",
            "no_wrap": false,
            "opacity": 1,
            "options": [
              "attribution",
              "detect_retina",
              "max_native_zoom",
              "max_zoom",
              "min_native_zoom",
              "min_zoom",
              "no_wrap",
              "tile_size",
              "tms"
            ],
            "popup": null,
            "popup_max_height": null,
            "popup_max_width": 300,
            "popup_min_width": 50,
            "show_loading": false,
            "tile_size": 256,
            "tms": false,
            "url": "https://earthengine.googleapis.com/v1alpha/projects/earthengine-legacy/maps/8d435a3a9e049b567f1257b763ac9eea-8d7effe263149ac86117fcf5d49ae33e/tiles/{z}/{x}/{y}",
            "visible": true
          }
        },
        "7563a28fd82b405fb254f32bb3eb6d3f": {
          "model_module": "jupyter-leaflet",
          "model_module_version": "^0.14.0",
          "model_name": "LeafletWidgetControlModel",
          "state": {
            "_model_module": "jupyter-leaflet",
            "_model_module_version": "^0.14.0",
            "_model_name": "LeafletWidgetControlModel",
            "_view_count": null,
            "_view_module": "jupyter-leaflet",
            "_view_module_version": "^0.14.0",
            "_view_name": "LeafletWidgetControlView",
            "max_height": null,
            "max_width": null,
            "min_height": null,
            "min_width": null,
            "options": [
              "position",
              "transparent_bg"
            ],
            "position": "bottomright",
            "transparent_bg": false,
            "widget": "IPY_MODEL_9426e7419da54f2db8d056f5498c80db"
          }
        },
        "7f89cfe52c5140729d4682439a634a8d": {
          "model_module": "@jupyter-widgets/controls",
          "model_module_version": "1.5.0",
          "model_name": "DescriptionStyleModel",
          "state": {
            "_model_module": "@jupyter-widgets/controls",
            "_model_module_version": "1.5.0",
            "_model_name": "DescriptionStyleModel",
            "_view_count": null,
            "_view_module": "@jupyter-widgets/base",
            "_view_module_version": "1.2.0",
            "_view_name": "StyleView",
            "description_width": ""
          }
        },
        "8cf98e2a506c45af942c7d23b6fa6e15": {
          "model_module": "jupyter-leaflet",
          "model_module_version": "^0.14.0",
          "model_name": "LeafletMapStyleModel",
          "state": {
            "_model_module": "jupyter-leaflet",
            "_model_module_version": "^0.14.0",
            "_model_name": "LeafletMapStyleModel",
            "_view_count": null,
            "_view_module": "@jupyter-widgets/base",
            "_view_module_version": "1.2.0",
            "_view_name": "StyleView",
            "cursor": "move"
          }
        },
        "8e552bd7bf394e3697d95d5ff99c9dcd": {
          "model_module": "@jupyter-widgets/base",
          "model_module_version": "1.2.0",
          "model_name": "LayoutModel",
          "state": {
            "_model_module": "@jupyter-widgets/base",
            "_model_module_version": "1.2.0",
            "_model_name": "LayoutModel",
            "_view_count": null,
            "_view_module": "@jupyter-widgets/base",
            "_view_module_version": "1.2.0",
            "_view_name": "LayoutView",
            "align_content": null,
            "align_items": null,
            "align_self": null,
            "border": null,
            "bottom": null,
            "display": null,
            "flex": null,
            "flex_flow": null,
            "grid_area": null,
            "grid_auto_columns": null,
            "grid_auto_flow": null,
            "grid_auto_rows": null,
            "grid_column": null,
            "grid_gap": null,
            "grid_row": null,
            "grid_template_areas": null,
            "grid_template_columns": null,
            "grid_template_rows": null,
            "height": "28px",
            "justify_content": null,
            "justify_items": null,
            "left": null,
            "margin": null,
            "max_height": null,
            "max_width": null,
            "min_height": null,
            "min_width": null,
            "object_fit": null,
            "object_position": null,
            "order": null,
            "overflow": null,
            "overflow_x": null,
            "overflow_y": null,
            "padding": "0px 0px 0px 4px",
            "right": null,
            "top": null,
            "visibility": null,
            "width": "28px"
          }
        },
        "92468b65a7f74c05abb01690bd4db3f5": {
          "model_module": "jupyter-leaflet",
          "model_module_version": "^0.14.0",
          "model_name": "LeafletWidgetControlModel",
          "state": {
            "_model_module": "jupyter-leaflet",
            "_model_module_version": "^0.14.0",
            "_model_name": "LeafletWidgetControlModel",
            "_view_count": null,
            "_view_module": "jupyter-leaflet",
            "_view_module_version": "^0.14.0",
            "_view_name": "LeafletWidgetControlView",
            "max_height": null,
            "max_width": null,
            "min_height": null,
            "min_width": null,
            "options": [
              "position",
              "transparent_bg"
            ],
            "position": "topleft",
            "transparent_bg": false,
            "widget": "IPY_MODEL_351b47b15693491a84e0acaf7ecb0d0f"
          }
        },
        "9426e7419da54f2db8d056f5498c80db": {
          "model_module": "@jupyter-widgets/output",
          "model_module_version": "1.0.0",
          "model_name": "OutputModel",
          "state": {
            "_dom_classes": [],
            "_model_module": "@jupyter-widgets/output",
            "_model_module_version": "1.0.0",
            "_model_name": "OutputModel",
            "_view_count": null,
            "_view_module": "@jupyter-widgets/output",
            "_view_module_version": "1.0.0",
            "_view_name": "OutputView",
            "layout": "IPY_MODEL_2792342518c944548a2d4a94f320b232",
            "msg_id": "",
            "outputs": [
              {
                "data": {
                  "application/vnd.jupyter.widget-view+json": {
                    "model_id": "2f6994e71f4d499f953ff91973f94c2b",
                    "version_major": 2,
                    "version_minor": 0
                  },
                  "text/plain": "HTML(value=\"<html>\\n<body>\\n  <div class='my-legend'>\\n  <div class='legend-title'>Land Cover Legend</div>\\n  …"
                },
                "metadata": {
                  "application/vnd.jupyter.widget-view+json": {
                    "colab": {
                      "custom_widget_manager": {
                        "url": "https://ssl.gstatic.com/colaboratory-static/widgets/colab-cdn-widget-manager/a8874ba6619b6106/manager.min.js"
                      }
                    }
                  }
                },
                "output_type": "display_data"
              }
            ]
          }
        },
        "9a8ba42ebb78430aa76935f69e5aff9c": {
          "model_module": "jupyter-leaflet",
          "model_module_version": "^0.14.0",
          "model_name": "LeafletAttributionControlModel",
          "state": {
            "_model_module": "jupyter-leaflet",
            "_model_module_version": "^0.14.0",
            "_model_name": "LeafletAttributionControlModel",
            "_view_count": null,
            "_view_module": "jupyter-leaflet",
            "_view_module_version": "^0.14.0",
            "_view_name": "LeafletAttributionControlView",
            "options": [
              "position",
              "prefix"
            ],
            "position": "bottomright",
            "prefix": "ipyleaflet"
          }
        },
        "a64290158ffe4a9bbaa8405533da323f": {
          "model_module": "jupyter-leaflet",
          "model_module_version": "^0.14.0",
          "model_name": "LeafletMeasureControlModel",
          "state": {
            "_custom_units": {},
            "_model_module": "jupyter-leaflet",
            "_model_module_version": "^0.14.0",
            "_model_name": "LeafletMeasureControlModel",
            "_view_count": null,
            "_view_module": "jupyter-leaflet",
            "_view_module_version": "^0.14.0",
            "_view_name": "LeafletMeasureControlView",
            "active_color": "orange",
            "capture_z_index": 10000,
            "completed_color": "#C8F2BE",
            "options": [
              "active_color",
              "capture_z_index",
              "completed_color",
              "popup_options",
              "position",
              "primary_area_unit",
              "primary_length_unit",
              "secondary_area_unit",
              "secondary_length_unit"
            ],
            "popup_options": {
              "autoPanPadding": [
                10,
                10
              ],
              "className": "leaflet-measure-resultpopup"
            },
            "position": "bottomleft",
            "primary_area_unit": "acres",
            "primary_length_unit": "kilometers",
            "secondary_area_unit": null,
            "secondary_length_unit": null
          }
        },
        "a8a9e088afae427f82920d387193c6aa": {
          "model_module": "jupyter-leaflet",
          "model_module_version": "^0.14.0",
          "model_name": "LeafletScaleControlModel",
          "state": {
            "_model_module": "jupyter-leaflet",
            "_model_module_version": "^0.14.0",
            "_model_name": "LeafletScaleControlModel",
            "_view_count": null,
            "_view_module": "jupyter-leaflet",
            "_view_module_version": "^0.14.0",
            "_view_name": "LeafletScaleControlView",
            "imperial": true,
            "max_width": 100,
            "metric": true,
            "options": [
              "imperial",
              "max_width",
              "metric",
              "position",
              "update_when_idle"
            ],
            "position": "bottomleft",
            "update_when_idle": false
          }
        },
        "af6ad7e6df584af4b7f030d15003ecb1": {
          "model_module": "jupyter-leaflet",
          "model_module_version": "^0.14.0",
          "model_name": "LeafletWidgetControlModel",
          "state": {
            "_model_module": "jupyter-leaflet",
            "_model_module_version": "^0.14.0",
            "_model_name": "LeafletWidgetControlModel",
            "_view_count": null,
            "_view_module": "jupyter-leaflet",
            "_view_module_version": "^0.14.0",
            "_view_name": "LeafletWidgetControlView",
            "max_height": null,
            "max_width": null,
            "min_height": null,
            "min_width": null,
            "options": [
              "position",
              "transparent_bg"
            ],
            "position": "topright",
            "transparent_bg": false,
            "widget": "IPY_MODEL_10eba2ae30264db2af94dd81ec05f74f"
          }
        },
        "b672ecf7ebc645b5b9b2055f8314018f": {
          "model_module": "jupyter-leaflet",
          "model_module_version": "^0.14.0",
          "model_name": "LeafletMapStyleModel",
          "state": {
            "_model_module": "jupyter-leaflet",
            "_model_module_version": "^0.14.0",
            "_model_name": "LeafletMapStyleModel",
            "_view_count": null,
            "_view_module": "@jupyter-widgets/base",
            "_view_module_version": "1.2.0",
            "_view_name": "StyleView",
            "cursor": "grab"
          }
        },
        "b798659462bd436aacd0cd3845a3d43b": {
          "model_module": "@jupyter-widgets/base",
          "model_module_version": "1.2.0",
          "model_name": "LayoutModel",
          "state": {
            "_model_module": "@jupyter-widgets/base",
            "_model_module_version": "1.2.0",
            "_model_name": "LayoutModel",
            "_view_count": null,
            "_view_module": "@jupyter-widgets/base",
            "_view_module_version": "1.2.0",
            "_view_name": "LayoutView",
            "align_content": null,
            "align_items": null,
            "align_self": null,
            "border": null,
            "bottom": null,
            "display": null,
            "flex": null,
            "flex_flow": null,
            "grid_area": null,
            "grid_auto_columns": null,
            "grid_auto_flow": null,
            "grid_auto_rows": null,
            "grid_column": null,
            "grid_gap": null,
            "grid_row": null,
            "grid_template_areas": null,
            "grid_template_columns": null,
            "grid_template_rows": null,
            "height": "600px",
            "justify_content": null,
            "justify_items": null,
            "left": null,
            "margin": null,
            "max_height": null,
            "max_width": null,
            "min_height": null,
            "min_width": null,
            "object_fit": null,
            "object_position": null,
            "order": null,
            "overflow": null,
            "overflow_x": null,
            "overflow_y": null,
            "padding": null,
            "right": null,
            "top": null,
            "visibility": null,
            "width": null
          }
        },
        "bff4295fba3d475c8d2b1626196d81cc": {
          "model_module": "jupyter-leaflet",
          "model_module_version": "^0.14.0",
          "model_name": "LeafletTileLayerModel",
          "state": {
            "_model_module": "jupyter-leaflet",
            "_model_module_version": "^0.14.0",
            "_model_name": "LeafletTileLayerModel",
            "_view_count": null,
            "_view_module": "jupyter-leaflet",
            "_view_module_version": "^0.14.0",
            "_view_name": "LeafletTileLayerView",
            "attribution": "Google Earth Engine",
            "base": false,
            "bottom": true,
            "detect_retina": false,
            "loading": false,
            "max_native_zoom": 18,
            "max_zoom": 24,
            "min_native_zoom": 0,
            "min_zoom": 0,
            "name": "training",
            "no_wrap": false,
            "opacity": 1,
            "options": [
              "attribution",
              "detect_retina",
              "max_native_zoom",
              "max_zoom",
              "min_native_zoom",
              "min_zoom",
              "no_wrap",
              "tile_size",
              "tms"
            ],
            "popup": null,
            "popup_max_height": null,
            "popup_max_width": 300,
            "popup_min_width": 50,
            "show_loading": false,
            "tile_size": 256,
            "tms": false,
            "url": "https://earthengine.googleapis.com/v1alpha/projects/earthengine-legacy/maps/6d68623d330efcf45b6f33f1c8444952-e608097e7256f5f38e356253fc4c4f67/tiles/{z}/{x}/{y}",
            "visible": false
          }
        },
        "f4792d3daf4a4ad197076feaf4d03812": {
          "model_module": "jupyter-leaflet",
          "model_module_version": "^0.14.0",
          "model_name": "LeafletTileLayerModel",
          "state": {
            "_model_module": "jupyter-leaflet",
            "_model_module_version": "^0.14.0",
            "_model_name": "LeafletTileLayerModel",
            "_view_count": null,
            "_view_module": "jupyter-leaflet",
            "_view_module_version": "^0.14.0",
            "_view_name": "LeafletTileLayerView",
            "attribution": "Google Earth Engine",
            "base": false,
            "bottom": true,
            "detect_retina": false,
            "loading": false,
            "max_native_zoom": 18,
            "max_zoom": 24,
            "min_native_zoom": 0,
            "min_zoom": 0,
            "name": "MODIS Land Cover",
            "no_wrap": false,
            "opacity": 1,
            "options": [
              "attribution",
              "detect_retina",
              "max_native_zoom",
              "max_zoom",
              "min_native_zoom",
              "min_zoom",
              "no_wrap",
              "tile_size",
              "tms"
            ],
            "popup": null,
            "popup_max_height": null,
            "popup_max_width": 300,
            "popup_min_width": 50,
            "show_loading": false,
            "tile_size": 256,
            "tms": false,
            "url": "https://earthengine.googleapis.com/v1alpha/projects/earthengine-legacy/maps/541d1204142898ebb501c0555a1c5973-801de9f876dadc11014580c985ee7da5/tiles/{z}/{x}/{y}",
            "visible": true
          }
        }
      }
    }
  },
  "nbformat": 4,
  "nbformat_minor": 0
}
